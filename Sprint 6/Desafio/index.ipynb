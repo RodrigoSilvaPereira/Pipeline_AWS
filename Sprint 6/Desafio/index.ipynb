{
 "cells": [
  {
   "cell_type": "markdown",
   "metadata": {},
   "source": [
    "# Criando bucket\n",
    "\n",
    "Este trecho de código em Python usa a biblioteca boto3 para criar um bucket no Amazon S3, que é um serviço de armazenamento de objetos da AWS. A função create_s3_bucket recebe como parâmetros o nome do bucket e, opcionalmente, a região onde o bucket deve ser criado."
   ]
  },
  {
   "cell_type": "code",
   "execution_count": 1,
   "metadata": {},
   "outputs": [
    {
     "name": "stdout",
     "output_type": "stream",
     "text": [
      "Bucket 'bucket-rodrigo-silva' criado com sucesso.\n"
     ]
    }
   ],
   "source": [
    "import boto3\n",
    "from botocore.exceptions import NoCredentialsError, PartialCredentialsError, ClientError\n",
    "\n",
    "def create_s3_bucket(bucket_name, region=None):\n",
    "    try:\n",
    "        # Inicializa a sessão e o cliente S3 usando o perfil configurado\n",
    "        session = boto3.Session(profile_name=\"default\")\n",
    "        s3_client = session.client(\"s3\", region_name=region)\n",
    "\n",
    "        # Cria o bucket com a região especificada\n",
    "        if region is None or region == \"us-east-1\":\n",
    "            s3_client.create_bucket(Bucket=bucket_name)\n",
    "        else:\n",
    "            location = {\"LocationConstraint\": region}\n",
    "            s3_client.create_bucket(\n",
    "                Bucket=bucket_name, CreateBucketConfiguration=location\n",
    "            )\n",
    "\n",
    "        print(f\"Bucket '{bucket_name}' criado com sucesso.\")\n",
    "\n",
    "    except NoCredentialsError:\n",
    "        print(\"Credenciais não encontradas.\")\n",
    "    except PartialCredentialsError:\n",
    "        print(\"Credenciais incompletas.\")\n",
    "    except ClientError as e:\n",
    "        print(f\"Ocorreu um erro ao tentar criar o bucket: {e}\")\n",
    "    except Exception as e:\n",
    "        print(f\"Ocorreu um erro: {e}\")\n",
    "\n",
    "# Criando o bucket\n",
    "bucket_name = \"bucket-rodrigo-silva\"\n",
    "region = \"us-east-1\"\n",
    "create_s3_bucket(bucket_name, region)\n"
   ]
  },
  {
   "cell_type": "markdown",
   "metadata": {},
   "source": [
    "# Ler os Arquivos CSV e Fazer Upload para o Amazon S3\n",
    "\n",
    "Este código Python lê dados de arquivos CSV e os faz upload para um bucket no Amazon S3. A função read_csv lê um arquivo CSV e retorna uma lista de dicionários, onde cada dicionário representa uma linha do CSV. A função upload_file_to_s3 inicializa uma sessão do boto3 usando o perfil padrão, cria um cliente S3, e faz o upload do arquivo especificado para o bucket S3 com uma estrutura de caminho que inclui a data de processamento. Exceções são tratadas para informar problemas relacionados a credenciais ou erros do cliente S3. Por fim, a função é chamada para fazer o upload de dois arquivos CSV (movies.csv e series.csv).\n",
    "\n",
    "\n"
   ]
  },
  {
   "cell_type": "code",
   "execution_count": 1,
   "metadata": {},
   "outputs": [
    {
     "name": "stdout",
     "output_type": "stream",
     "text": [
      "Arquivo 'Data/movies.csv' enviado para o bucket 'bucket-rodrigo-silva' como 'Raw/Local/CSV/movies/2024/05/28/movies.csv'.\n",
      "Arquivo 'Data/series.csv' enviado para o bucket 'bucket-rodrigo-silva' como 'Raw/Local/CSV/series/2024/05/28/series.csv'.\n"
     ]
    }
   ],
   "source": [
    "import os\n",
    "import csv\n",
    "import datetime\n",
    "import boto3\n",
    "from botocore.exceptions import NoCredentialsError, PartialCredentialsError, ClientError\n",
    "\n",
    "def read_csv(file_path):\n",
    "    data = []\n",
    "    with open(file_path, 'r', encoding='utf-8') as file:\n",
    "        csv_reader = csv.DictReader(file)\n",
    "        for row in csv_reader:\n",
    "            data.append(row)\n",
    "    return data\n",
    "\n",
    "def upload_file_to_s3(bucket_name, file_path, object_name=None):\n",
    "    try:\n",
    "        session = boto3.Session(profile_name=\"default\")\n",
    "        s3_client = session.client(\"s3\")\n",
    "\n",
    "        if object_name is None:\n",
    "            object_name = os.path.basename(file_path)\n",
    "\n",
    "        # Obtendo a data de processamento para construir o caminho\n",
    "        processing_date = datetime.datetime.now().strftime(\"%Y/%m/%d\")\n",
    "        # Construindo o caminho do arquivo no S3\n",
    "        file_name = os.path.splitext(object_name)[0]  # Remove a extensão do arquivo\n",
    "        s3_key = f\"Raw/Local/CSV/{file_name}/{processing_date}/{object_name}\"\n",
    "\n",
    "        s3_client.upload_file(file_path, bucket_name, s3_key)\n",
    "\n",
    "        print(f\"Arquivo '{file_path}' enviado para o bucket '{bucket_name}' como '{s3_key}'.\")\n",
    "\n",
    "    except NoCredentialsError:\n",
    "        print(\"Credenciais não encontradas.\")\n",
    "    except PartialCredentialsError:\n",
    "        print(\"Credenciais incompletas.\")\n",
    "    except ClientError as e:\n",
    "        print(f\"Ocorreu um erro ao tentar enviar o arquivo: {e}\")\n",
    "    except Exception as e:\n",
    "        print(f\"Ocorreu um erro: {e}\")\n",
    "\n",
    "bucket_name = \"bucket-rodrigo-silva\"\n",
    "region = \"us-east-1\"\n",
    "\n",
    "# Upload dos arquivos\n",
    "upload_file_to_s3(bucket_name, 'Data/movies.csv', 'movies.csv')\n",
    "upload_file_to_s3(bucket_name, 'Data/series.csv', 'series.csv')\n"
   ]
  },
  {
   "cell_type": "markdown",
   "metadata": {},
   "source": [
    "# Construção do Arquivo \n",
    "\n",
    "Este Dockerfile cria um contêiner Docker para um aplicativo Python que interage com serviços da AWS usando a biblioteca boto3. Ele utiliza a imagem base python:3.9-slim para ser mais leve, copia todos os arquivos do diretório atual para o diretório /app no contêiner, define /app como o diretório de trabalho, instala boto3 sem usar cache para economizar espaço, e define como comando de entrada padrão a execução do script main.py com Python."
   ]
  },
  {
   "cell_type": "code",
   "execution_count": null,
   "metadata": {},
   "outputs": [],
   "source": [
    "# Use uma imagem base Python\n",
    "FROM python:3.9-slim\n",
    "\n",
    "# Copie os arquivos necessários para o contêiner\n",
    "COPY . /app\n",
    "\n",
    "# Defina o diretório de trabalho\n",
    "WORKDIR /app\n",
    "\n",
    "# Instale as dependências Python\n",
    "RUN pip install --no-cache-dir boto3\n",
    "\n",
    "# Comando de entrada padrão\n",
    "CMD [\"python\", \"main.py\"]"
   ]
  },
  {
   "cell_type": "markdown",
   "metadata": {},
   "source": [
    "# Crie o Volume"
   ]
  },
  {
   "cell_type": "markdown",
   "metadata": {},
   "source": [
    "docker volume create FilmesSeries-vol"
   ]
  },
  {
   "cell_type": "markdown",
   "metadata": {},
   "source": [
    "# Construa a Imagem"
   ]
  },
  {
   "cell_type": "markdown",
   "metadata": {},
   "source": [
    "docker build -t data-lake-rodrigo ."
   ]
  },
  {
   "cell_type": "markdown",
   "metadata": {},
   "source": [
    "# Execute o container com os volumes montados"
   ]
  },
  {
   "cell_type": "markdown",
   "metadata": {},
   "source": [
    "docker run -v FilmesSeries-vol:/FilmesSeries -v C:/Users/Rodrigo/.aws:/root/.aws data-lake-rodrigo\n"
   ]
  }
 ],
 "metadata": {
  "kernelspec": {
   "display_name": "Python 3",
   "language": "python",
   "name": "python3"
  },
  "language_info": {
   "codemirror_mode": {
    "name": "ipython",
    "version": 3
   },
   "file_extension": ".py",
   "mimetype": "text/x-python",
   "name": "python",
   "nbconvert_exporter": "python",
   "pygments_lexer": "ipython3",
   "version": "3.12.2"
  }
 },
 "nbformat": 4,
 "nbformat_minor": 2
}
